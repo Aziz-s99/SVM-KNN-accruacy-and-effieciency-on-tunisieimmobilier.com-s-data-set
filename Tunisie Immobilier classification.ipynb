{
 "cells": [
  {
   "cell_type": "markdown",
   "id": "c1601a75",
   "metadata": {},
   "source": [
    "# Import libraries"
   ]
  },
  {
   "cell_type": "markdown",
   "id": "15eae6da",
   "metadata": {},
   "source": [
    "First, we need to import all required libraries and specific items from library modules."
   ]
  },
  {
   "cell_type": "code",
   "execution_count": 94,
   "id": "524fe365",
   "metadata": {},
   "outputs": [],
   "source": [
    "import pandas as pd\n",
    "from sklearn.preprocessing import MinMaxScaler\n",
    "from sklearn.model_selection import train_test_split\n",
    "from sklearn.neighbors import KNeighborsClassifier\n",
    "from sklearn.svm import SVC\n",
    "from sklearn.metrics import classification_report,confusion_matrix"
   ]
  },
  {
   "cell_type": "markdown",
   "id": "0c5c0b60",
   "metadata": {},
   "source": [
    "# KNN \n"
   ]
  },
  {
   "cell_type": "markdown",
   "id": "6dc3b23b",
   "metadata": {},
   "source": [
    "KNN is a machine learning algorithm that is used for classification and regression tasks. It works by finding the K closest data points in the training set to a new data point in the test set and using those points to make a prediction for the label of the new data point. KNN is simple to understand, but can be computationally expensive and sensitive to the choice of K."
   ]
  },
  {
   "cell_type": "markdown",
   "id": "21db0972",
   "metadata": {},
   "source": [
    "After importing the required libraries, the next step is to import the data and check our data type."
   ]
  },
  {
   "cell_type": "code",
   "execution_count": 95,
   "id": "1a5a4bb0",
   "metadata": {},
   "outputs": [
    {
     "data": {
      "text/plain": [
       "Name        object\n",
       "Location    object\n",
       "Price       object\n",
       "Bedrooms     int64\n",
       "Surface      int64\n",
       "Type         int64\n",
       "dtype: object"
      ]
     },
     "execution_count": 95,
     "metadata": {},
     "output_type": "execute_result"
    }
   ],
   "source": [
    "data = pd.read_excel(\"data.xlsx\")\n",
    "data.dtypes"
   ]
  },
  {
   "cell_type": "markdown",
   "id": "311a59f8",
   "metadata": {},
   "source": [
    "As we can see, there were some errors where importing the data that needs to be fixed.\n",
    "Price column type needs to be changed to int64 and not object."
   ]
  },
  {
   "cell_type": "code",
   "execution_count": 96,
   "id": "8adfd693",
   "metadata": {},
   "outputs": [
    {
     "name": "stdout",
     "output_type": "stream",
     "text": [
      "0        70000\n",
      "1       350000\n",
      "2       450000\n",
      "3        85000\n",
      "4       170000\n",
      "        ...   \n",
      "112    1000000\n",
      "113    2280000\n",
      "114    2200000\n",
      "115    1500000\n",
      "116     720000\n",
      "Name: Price, Length: 117, dtype: int64\n"
     ]
    }
   ],
   "source": [
    "data['Price']= data['Price'].str.replace(' ', '')\n",
    "data['Price'] = data['Price'].astype('int64')\n",
    "print(data['Price'])"
   ]
  },
  {
   "cell_type": "markdown",
   "id": "fefb43ea",
   "metadata": {},
   "source": [
    "Since the type is changed we can now select our features and target"
   ]
  },
  {
   "cell_type": "code",
   "execution_count": 97,
   "id": "5a8a6c18",
   "metadata": {},
   "outputs": [],
   "source": [
    "Y = data[\"Type\"]\n",
    "X = data[[\"Price\", \"Surface\", \"Bedrooms\"]]"
   ]
  },
  {
   "cell_type": "markdown",
   "id": "fbdf6246",
   "metadata": {},
   "source": [
    "Then we split our data into train and test sets. \n",
    "We will use the parameter \"random_state=0\" to maintain the same results on each run."
   ]
  },
  {
   "cell_type": "code",
   "execution_count": 108,
   "id": "50eafbe8",
   "metadata": {},
   "outputs": [],
   "source": [
    "X_train, X_test, y_train, y_test = train_test_split(X, Y, random_state=0)"
   ]
  },
  {
   "cell_type": "markdown",
   "id": "da94417d",
   "metadata": {},
   "source": [
    "Next, we will need to scale our data using MinMaxScaler."
   ]
  },
  {
   "cell_type": "code",
   "execution_count": 99,
   "id": "f16f2957",
   "metadata": {},
   "outputs": [],
   "source": [
    "scaler = MinMaxScaler()\n",
    "X_train_scaled = scaler.fit_transform(X_train)\n",
    "X_test_scaled = scaler.transform(X_test)"
   ]
  },
  {
   "cell_type": "markdown",
   "id": "60e16556",
   "metadata": {},
   "source": [
    "Once that's done, we will build our KNN model with k=4 in this case."
   ]
  },
  {
   "cell_type": "code",
   "execution_count": 100,
   "id": "5f6627eb",
   "metadata": {},
   "outputs": [],
   "source": [
    "knn = KNeighborsClassifier(n_neighbors=4)"
   ]
  },
  {
   "cell_type": "markdown",
   "id": "aff8bd31",
   "metadata": {},
   "source": [
    "Now let's fit the data sets into model we got."
   ]
  },
  {
   "cell_type": "code",
   "execution_count": 101,
   "id": "a0cf257d",
   "metadata": {},
   "outputs": [
    {
     "data": {
      "text/plain": [
       "KNeighborsClassifier(n_neighbors=4)"
      ]
     },
     "execution_count": 101,
     "metadata": {},
     "output_type": "execute_result"
    }
   ],
   "source": [
    "knn.fit(X_train_scaled, y_train)"
   ]
  },
  {
   "cell_type": "markdown",
   "id": "3ac92aa1",
   "metadata": {},
   "source": [
    "Last step is to check the accuracy on both train and test sets."
   ]
  },
  {
   "cell_type": "code",
   "execution_count": 102,
   "id": "b12ddeae",
   "metadata": {},
   "outputs": [
    {
     "name": "stdout",
     "output_type": "stream",
     "text": [
      "Accuracy of K-NN classifier on training set: 0.86\n",
      "Accuracy of K-NN classifier on test set: 0.80\n"
     ]
    }
   ],
   "source": [
    "print('Accuracy of K-NN classifier on training set: {:.2f}'.format(knn.score(X_train_scaled, y_train)))\n",
    "print('Accuracy of K-NN classifier on test set: {:.2f}'.format(knn.score(X_test_scaled, y_test)))\n"
   ]
  },
  {
   "cell_type": "markdown",
   "id": "c6def6db",
   "metadata": {},
   "source": [
    "# SVM \n"
   ]
  },
  {
   "cell_type": "markdown",
   "id": "0fdf7607",
   "metadata": {},
   "source": [
    "What is SVM? \n",
    "In machine learning, support-vector machines (SVMs, also support-vector networks) are supervised learning models with associated learning algorithms that analyze data for classification and regression analysis.\n",
    "SVMs are one of the most robust prediction methods\n",
    "In addition to performing linear classification, SVMs can efficiently perform a non-linear classification using what is called the kernel trick, implicitly mapping their inputs into high-dimensional feature spaces."
   ]
  },
  {
   "cell_type": "markdown",
   "id": "c3762e1b",
   "metadata": {},
   "source": [
    "The next logical steps after importing the required data is to import data, split it into train and test sets, and scale it. But since we've already don that, we will directly move to building our SVM model."
   ]
  },
  {
   "cell_type": "code",
   "execution_count": 111,
   "id": "7fbf6b0d",
   "metadata": {},
   "outputs": [],
   "source": [
    "SVM = SVC(C=20)"
   ]
  },
  {
   "cell_type": "markdown",
   "id": "ffafca12",
   "metadata": {},
   "source": [
    "Now let's fit the data sets into model we got."
   ]
  },
  {
   "cell_type": "code",
   "execution_count": 112,
   "id": "b868a212",
   "metadata": {},
   "outputs": [
    {
     "data": {
      "text/plain": [
       "SVC(C=20)"
      ]
     },
     "execution_count": 112,
     "metadata": {},
     "output_type": "execute_result"
    }
   ],
   "source": [
    "SVM.fit(X_train_scaled, y_train)"
   ]
  },
  {
   "cell_type": "markdown",
   "id": "0f8ab03e",
   "metadata": {},
   "source": [
    "Last step is to check the accuracy on both train and test sets."
   ]
  },
  {
   "cell_type": "code",
   "execution_count": 113,
   "id": "73c1c5b7",
   "metadata": {},
   "outputs": [
    {
     "name": "stdout",
     "output_type": "stream",
     "text": [
      "RBF-kernel SVC training set accuracy: 0.95\n",
      "RBF-kernel SVC test set accuracy: 0.83\n"
     ]
    }
   ],
   "source": [
    "print('RBF-kernel SVC training set accuracy: {:.2f}'\n",
    "     .format(SVM.score(X_train_scaled, y_train)))\n",
    "print('RBF-kernel SVC test set accuracy: {:.2f}'\n",
    "     .format(SVM.score(X_test_scaled, y_test)))"
   ]
  },
  {
   "cell_type": "markdown",
   "id": "362b2469",
   "metadata": {},
   "source": [
    "# EVALUATION \n"
   ]
  },
  {
   "cell_type": "markdown",
   "id": "33fa900f",
   "metadata": {},
   "source": [
    "The two models will be evaluated using confusion matrixes. A confusion matrix is a table that compares the predicted and actual labels of a classification model. It shows how many predictions were correct or incorrect and provides insights into the model's performance."
   ]
  },
  {
   "cell_type": "markdown",
   "id": "285ba39f",
   "metadata": {},
   "source": [
    "First, let's build the confusion matrix for our KNN model.\n"
   ]
  },
  {
   "cell_type": "code",
   "execution_count": 114,
   "id": "57ca756d",
   "metadata": {},
   "outputs": [
    {
     "name": "stdout",
     "output_type": "stream",
     "text": [
      "[[ 0  0  7]\n",
      " [ 0  0 16]\n",
      " [ 0  0  7]]\n",
      "              precision    recall  f1-score   support\n",
      "\n",
      "           2       0.00      0.00      0.00         7\n",
      "           3       0.00      0.00      0.00        16\n",
      "           4       0.23      1.00      0.38         7\n",
      "\n",
      "    accuracy                           0.23        30\n",
      "   macro avg       0.08      0.33      0.13        30\n",
      "weighted avg       0.05      0.23      0.09        30\n",
      "\n"
     ]
    },
    {
     "name": "stderr",
     "output_type": "stream",
     "text": [
      "C:\\Users\\Aziz\\anaconda3\\lib\\site-packages\\sklearn\\base.py:443: UserWarning: X has feature names, but KNeighborsClassifier was fitted without feature names\n",
      "  warnings.warn(\n",
      "C:\\Users\\Aziz\\anaconda3\\lib\\site-packages\\sklearn\\metrics\\_classification.py:1318: UndefinedMetricWarning: Precision and F-score are ill-defined and being set to 0.0 in labels with no predicted samples. Use `zero_division` parameter to control this behavior.\n",
      "  _warn_prf(average, modifier, msg_start, len(result))\n",
      "C:\\Users\\Aziz\\anaconda3\\lib\\site-packages\\sklearn\\metrics\\_classification.py:1318: UndefinedMetricWarning: Precision and F-score are ill-defined and being set to 0.0 in labels with no predicted samples. Use `zero_division` parameter to control this behavior.\n",
      "  _warn_prf(average, modifier, msg_start, len(result))\n",
      "C:\\Users\\Aziz\\anaconda3\\lib\\site-packages\\sklearn\\metrics\\_classification.py:1318: UndefinedMetricWarning: Precision and F-score are ill-defined and being set to 0.0 in labels with no predicted samples. Use `zero_division` parameter to control this behavior.\n",
      "  _warn_prf(average, modifier, msg_start, len(result))\n"
     ]
    }
   ],
   "source": [
    "KNN_predicted = knn.predict(X_test)\n",
    "print(confusion_matrix(y_test, KNN_predicted))\n",
    "print(classification_report(y_test, KNN_predicted))"
   ]
  },
  {
   "cell_type": "markdown",
   "id": "5331b450",
   "metadata": {},
   "source": [
    "Next, we build the confusion matrix for our SVM model."
   ]
  },
  {
   "cell_type": "code",
   "execution_count": 116,
   "id": "5b6de4d8",
   "metadata": {},
   "outputs": [
    {
     "name": "stdout",
     "output_type": "stream",
     "text": [
      "[[ 0  0  7]\n",
      " [ 0  0 16]\n",
      " [ 0  0  7]]\n",
      "              precision    recall  f1-score   support\n",
      "\n",
      "           2       0.00      0.00      0.00         7\n",
      "           3       0.00      0.00      0.00        16\n",
      "           4       0.23      1.00      0.38         7\n",
      "\n",
      "    accuracy                           0.23        30\n",
      "   macro avg       0.08      0.33      0.13        30\n",
      "weighted avg       0.05      0.23      0.09        30\n",
      "\n"
     ]
    },
    {
     "name": "stderr",
     "output_type": "stream",
     "text": [
      "C:\\Users\\Aziz\\anaconda3\\lib\\site-packages\\sklearn\\base.py:443: UserWarning: X has feature names, but SVC was fitted without feature names\n",
      "  warnings.warn(\n",
      "C:\\Users\\Aziz\\anaconda3\\lib\\site-packages\\sklearn\\metrics\\_classification.py:1318: UndefinedMetricWarning: Precision and F-score are ill-defined and being set to 0.0 in labels with no predicted samples. Use `zero_division` parameter to control this behavior.\n",
      "  _warn_prf(average, modifier, msg_start, len(result))\n",
      "C:\\Users\\Aziz\\anaconda3\\lib\\site-packages\\sklearn\\metrics\\_classification.py:1318: UndefinedMetricWarning: Precision and F-score are ill-defined and being set to 0.0 in labels with no predicted samples. Use `zero_division` parameter to control this behavior.\n",
      "  _warn_prf(average, modifier, msg_start, len(result))\n",
      "C:\\Users\\Aziz\\anaconda3\\lib\\site-packages\\sklearn\\metrics\\_classification.py:1318: UndefinedMetricWarning: Precision and F-score are ill-defined and being set to 0.0 in labels with no predicted samples. Use `zero_division` parameter to control this behavior.\n",
      "  _warn_prf(average, modifier, msg_start, len(result))\n"
     ]
    }
   ],
   "source": [
    "svm_predicted = SVM.predict(X_test)\n",
    "print(confusion_matrix(y_test, svm_predicted))\n",
    "print(classification_report(y_test, svm_predicted))"
   ]
  },
  {
   "cell_type": "markdown",
   "id": "ada5e454",
   "metadata": {},
   "source": [
    "We can now choose our model not only based on the accuracy like we did originally but also based on other metrics that can be as important like recall or f-1 score or precision"
   ]
  }
 ],
 "metadata": {
  "kernelspec": {
   "display_name": "Python 3 (ipykernel)",
   "language": "python",
   "name": "python3"
  },
  "language_info": {
   "codemirror_mode": {
    "name": "ipython",
    "version": 3
   },
   "file_extension": ".py",
   "mimetype": "text/x-python",
   "name": "python",
   "nbconvert_exporter": "python",
   "pygments_lexer": "ipython3",
   "version": "3.9.12"
  }
 },
 "nbformat": 4,
 "nbformat_minor": 5
}
